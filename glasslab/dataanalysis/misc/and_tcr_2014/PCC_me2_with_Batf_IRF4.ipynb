{
 "metadata": {
  "name": ""
 },
 "nbformat": 3,
 "nbformat_minor": 0,
 "worksheets": [
  {
   "cells": [
    {
     "cell_type": "code",
     "collapsed": false,
     "input": [
      "from __future__ import division\n",
      "from glasslab.dataanalysis.motifs.motif_analyzer import MotifAnalyzer\n",
      "import pandas"
     ],
     "language": "python",
     "metadata": {},
     "outputs": [],
     "prompt_number": 20
    },
    {
     "cell_type": "code",
     "collapsed": false,
     "input": [
      "peptide = 'PCC'\n",
      "ab = 'me2'"
     ],
     "language": "python",
     "metadata": {},
     "outputs": [],
     "prompt_number": 34
    },
    {
     "cell_type": "code",
     "collapsed": false,
     "input": [
      "yzer = MotifAnalyzer()\n",
      "dirpath = 'karmel/Desktop/Projects/GlassLab/Notes_and_Reports/AND_TCR/Analysis/Chips1_2/Motifs'\n",
      "dirpath = yzer.get_path(dirpath)"
     ],
     "language": "python",
     "metadata": {},
     "outputs": [],
     "prompt_number": 35
    },
    {
     "cell_type": "code",
     "collapsed": false,
     "input": [
      "pep_dirpath = yzer.get_filename(dirpath, '{}_{}'.format(peptide, ab))\n",
      "filename = yzer.get_filename(pep_dirpath, '{}_{}_enhancers_batf.txt'.format(peptide, ab))"
     ],
     "language": "python",
     "metadata": {},
     "outputs": [],
     "prompt_number": 36
    },
    {
     "cell_type": "code",
     "collapsed": false,
     "input": [
      "data = yzer.import_file(filename)\n",
      "data = data.fillna(0)"
     ],
     "language": "python",
     "metadata": {},
     "outputs": [],
     "prompt_number": 37
    },
    {
     "cell_type": "code",
     "collapsed": false,
     "input": [
      "length = 2000\n",
      "data = data[(data['length'] < length)]"
     ],
     "language": "python",
     "metadata": {},
     "outputs": [],
     "prompt_number": 50
    },
    {
     "cell_type": "code",
     "collapsed": false,
     "input": [
      "with_batf = data[data['batf_tag_count'] > 0]\n",
      "with_irf4 = data[data['irf4_tag_count'] > 0]\n",
      "with_batf_irf4 = with_batf[with_batf['irf4_tag_count'] > 0]\n",
      "\n",
      "print('Total {} {} peaks'.format(peptide, ab), len(data))\n",
      "print('With Batf', len(with_batf))\n",
      "print('With IRF4', len(with_irf4))\n",
      "print('With Batf+IRF4', len(with_batf_irf4))"
     ],
     "language": "python",
     "metadata": {},
     "outputs": [
      {
       "output_type": "stream",
       "stream": "stdout",
       "text": [
        "('Total PCC me2 peaks', 12512)\n",
        "('With Batf', 2988)\n",
        "('With IRF4', 1695)\n",
        "('With Batf+IRF4', 1553)\n"
       ]
      }
     ],
     "prompt_number": 51
    },
    {
     "cell_type": "code",
     "collapsed": false,
     "input": [
      "print('Total {} {} peaks'.format(peptide, ab), len(data)/len(data))\n",
      "print('With Batf', len(with_batf)/len(data))\n",
      "print('With IRF4', len(with_irf4)/len(data))\n",
      "print('With Batf+IRF4', len(with_batf_irf4)/len(data))"
     ],
     "language": "python",
     "metadata": {},
     "outputs": [
      {
       "output_type": "stream",
       "stream": "stdout",
       "text": [
        "('Total PCC me2 peaks', 1.0)\n",
        "('With Batf', 0.23881074168797953)\n",
        "('With IRF4', 0.13546994884910485)\n",
        "('With Batf+IRF4', 0.12412084398976982)\n"
       ]
      }
     ],
     "prompt_number": 52
    },
    {
     "cell_type": "code",
     "collapsed": false,
     "input": [
      "pep_only = data[(data['k99a_tag_count'] == 0) & (data['no_pep_tag_count'] == 0)]\n",
      "pep_only_with_batf = pep_only[pep_only['batf_tag_count'] > 0]\n",
      "pep_only_with_irf4 = pep_only[pep_only['irf4_tag_count'] > 0]\n",
      "pep_only_with_batf_irf4 = pep_only_with_batf[pep_only_with_batf['irf4_tag_count'] > 0]\n",
      "\n",
      "print('{} {} only peaks'.format(peptide, ab), len(pep_only))\n",
      "print('With Batf', len(pep_only_with_batf))\n",
      "print('With IRF4', len(pep_only_with_irf4))\n",
      "print('With Batf+IRF4', len(pep_only_with_batf_irf4))"
     ],
     "language": "python",
     "metadata": {},
     "outputs": [
      {
       "output_type": "stream",
       "stream": "stdout",
       "text": [
        "('PCC me2 only peaks', 3510)\n",
        "('With Batf', 1096)\n",
        "('With IRF4', 717)\n",
        "('With Batf+IRF4', 682)\n"
       ]
      }
     ],
     "prompt_number": 53
    },
    {
     "cell_type": "code",
     "collapsed": false,
     "input": [
      "print('{} {} only peaks'.format(peptide, ab), len(pep_only)/len(data))\n",
      "print('With Batf', len(pep_only_with_batf)/len(pep_only))\n",
      "print('With IRF4', len(pep_only_with_irf4)/len(pep_only))\n",
      "print('With Batf+IRF4', len(pep_only_with_batf_irf4)/len(pep_only))"
     ],
     "language": "python",
     "metadata": {},
     "outputs": [
      {
       "output_type": "stream",
       "stream": "stdout",
       "text": [
        "('PCC me2 only peaks', 0.2805306905370844)\n",
        "('With Batf', 0.31225071225071227)\n",
        "('With IRF4', 0.20427350427350427)\n",
        "('With Batf+IRF4', 0.1943019943019943)\n"
       ]
      }
     ],
     "prompt_number": 54
    },
    {
     "cell_type": "code",
     "collapsed": false,
     "input": [
      "active_only = data[(data['no_pep_tag_count'] == 0)]\n",
      "active_only_with_batf = active_only[active_only['batf_tag_count'] > 0]\n",
      "active_only_with_irf4 = active_only[active_only['irf4_tag_count'] > 0]\n",
      "active_only_with_batf_irf4 = active_only_with_batf[active_only_with_batf['irf4_tag_count'] > 0]\n",
      "\n",
      "print('With pep {} peaks'.format(ab), len(active_only))\n",
      "print('With Batf', len(active_only_with_batf))\n",
      "print('With IRF4', len(active_only_with_irf4))\n",
      "print('With Batf+IRF4', len(active_only_with_batf_irf4))"
     ],
     "language": "python",
     "metadata": {},
     "outputs": [
      {
       "output_type": "stream",
       "stream": "stdout",
       "text": [
        "('With pep me2 peaks', 4718)\n",
        "('With Batf', 1346)\n",
        "('With IRF4', 837)\n",
        "('With Batf+IRF4', 792)\n"
       ]
      }
     ],
     "prompt_number": 55
    },
    {
     "cell_type": "code",
     "collapsed": false,
     "input": [
      "print('With pep {} peaks'.format(ab), len(active_only)/len(data))\n",
      "print('With Batf', len(active_only_with_batf)/len(active_only))\n",
      "print('With IRF4', len(active_only_with_irf4)/len(active_only))\n",
      "print('With Batf+IRF4', len(active_only_with_batf_irf4)/len(active_only))"
     ],
     "language": "python",
     "metadata": {},
     "outputs": [
      {
       "output_type": "stream",
       "stream": "stdout",
       "text": [
        "('With pep me2 peaks', 0.3770780051150895)\n",
        "('With Batf', 0.28529037727850787)\n",
        "('With IRF4', 0.17740568037303941)\n",
        "('With Batf+IRF4', 0.1678677405680373)\n"
       ]
      }
     ],
     "prompt_number": 62
    },
    {
     "cell_type": "code",
     "collapsed": false,
     "input": [
      "with_batf[['chr_name','start','end']].tail()"
     ],
     "language": "python",
     "metadata": {},
     "outputs": [
      {
       "html": [
        "<div style=\"max-height:1000px;max-width:1500px;overflow:auto;\">\n",
        "<table border=\"1\" class=\"dataframe\">\n",
        "  <thead>\n",
        "    <tr style=\"text-align: right;\">\n",
        "      <th></th>\n",
        "      <th>chr_name</th>\n",
        "      <th>start</th>\n",
        "      <th>end</th>\n",
        "    </tr>\n",
        "  </thead>\n",
        "  <tbody>\n",
        "    <tr>\n",
        "      <th>19137</th>\n",
        "      <td>  chr8</td>\n",
        "      <td>  36681712</td>\n",
        "      <td>  36682212</td>\n",
        "    </tr>\n",
        "    <tr>\n",
        "      <th>19169</th>\n",
        "      <td> chr16</td>\n",
        "      <td>   4158560</td>\n",
        "      <td>   4159356</td>\n",
        "    </tr>\n",
        "    <tr>\n",
        "      <th>19176</th>\n",
        "      <td>  chrX</td>\n",
        "      <td>  74856934</td>\n",
        "      <td>  74858550</td>\n",
        "    </tr>\n",
        "    <tr>\n",
        "      <th>19184</th>\n",
        "      <td>  chr3</td>\n",
        "      <td> 142250443</td>\n",
        "      <td> 142250943</td>\n",
        "    </tr>\n",
        "    <tr>\n",
        "      <th>19191</th>\n",
        "      <td> chr10</td>\n",
        "      <td> 114830501</td>\n",
        "      <td> 114831503</td>\n",
        "    </tr>\n",
        "  </tbody>\n",
        "</table>\n",
        "</div>"
       ],
       "metadata": {},
       "output_type": "pyout",
       "prompt_number": 57,
       "text": [
        "      chr_name      start        end\n",
        "19137     chr8   36681712   36682212\n",
        "19169    chr16    4158560    4159356\n",
        "19176     chrX   74856934   74858550\n",
        "19184     chr3  142250443  142250943\n",
        "19191    chr10  114830501  114831503"
       ]
      }
     ],
     "prompt_number": 57
    },
    {
     "cell_type": "code",
     "collapsed": false,
     "input": [
      "pep_gt = data[(data['k99a_tag_count'] < data['tag_count']) \n",
      "              & (data['no_pep_tag_count'] < data['tag_count'])]\n",
      "pep_gt_with_batf = pep_gt[pep_gt['batf_tag_count'] > 0]\n",
      "pep_gt_with_irf4 = pep_gt[pep_gt['irf4_tag_count'] > 0]\n",
      "pep_gt_with_batf_irf4 = pep_gt_with_batf[pep_gt_with_batf['irf4_tag_count'] > 0]\n",
      "\n",
      "print('{} {} > others peaks'.format(peptide, ab), len(pep_gt))\n",
      "print('With Batf', len(pep_gt_with_batf))\n",
      "print('With IRF4', len(pep_gt_with_irf4))\n",
      "print('With Batf+IRF4', len(pep_gt_with_batf_irf4))"
     ],
     "language": "python",
     "metadata": {},
     "outputs": [
      {
       "output_type": "stream",
       "stream": "stdout",
       "text": [
        "('PCC me2 > others peaks', 6605)\n",
        "('With Batf', 1843)\n",
        "('With IRF4', 1102)\n",
        "('With Batf+IRF4', 1035)\n"
       ]
      }
     ],
     "prompt_number": 58
    },
    {
     "cell_type": "code",
     "collapsed": false,
     "input": [
      "print('{} {} > others peaks'.format(peptide, ab), len(pep_gt)/len(data))\n",
      "print('With Batf', len(pep_gt_with_batf)/len(pep_gt))\n",
      "print('With IRF4', len(pep_gt_with_irf4)/len(pep_gt))\n",
      "print('With Batf+IRF4', len(pep_gt_with_batf_irf4)/len(pep_gt))"
     ],
     "language": "python",
     "metadata": {},
     "outputs": [
      {
       "output_type": "stream",
       "stream": "stdout",
       "text": [
        "('PCC me2 > others peaks', 0.5278932225063938)\n",
        "('With Batf', 0.2790310370931113)\n",
        "('With IRF4', 0.1668433005299016)\n",
        "('With Batf+IRF4', 0.1566994700984103)\n"
       ]
      }
     ],
     "prompt_number": 59
    },
    {
     "cell_type": "code",
     "collapsed": false,
     "input": [
      "length = 2000\n",
      "short = data[(data['length'] < length)]\n",
      "short_with_batf = short[short['batf_tag_count'] > 0]\n",
      "short_with_irf4 = short[short['irf4_tag_count'] > 0]\n",
      "short_with_batf_irf4 = short_with_batf[short_with_batf['irf4_tag_count'] > 0]\n",
      "\n",
      "print('{} {} < {} bp peaks'.format(peptide, ab, length), len(short))\n",
      "print('With Batf', len(short_with_batf))\n",
      "print('With IRF4', len(short_with_irf4))\n",
      "print('With Batf+IRF4', len(short_with_batf_irf4))"
     ],
     "language": "python",
     "metadata": {},
     "outputs": [
      {
       "output_type": "stream",
       "stream": "stdout",
       "text": [
        "('PCC me2 < 2000 bp peaks', 12512)\n",
        "('With Batf', 2988)\n",
        "('With IRF4', 1695)\n",
        "('With Batf+IRF4', 1553)\n"
       ]
      }
     ],
     "prompt_number": 63
    },
    {
     "cell_type": "code",
     "collapsed": false,
     "input": [
      "print('{} {} < {} bp peaks'.format(peptide, ab, length), len(short)/len(data))\n",
      "print('With Batf', len(short_with_batf)/len(short))\n",
      "print('With IRF4', len(short_with_irf4)/len(short))\n",
      "print('With Batf+IRF4', len(short_with_batf_irf4)/len(short))"
     ],
     "language": "python",
     "metadata": {},
     "outputs": [
      {
       "output_type": "stream",
       "stream": "stdout",
       "text": [
        "('PCC me2 < 2000 bp peaks', 1.0)\n",
        "('With Batf', 0.23881074168797953)\n",
        "('With IRF4', 0.13546994884910485)\n",
        "('With Batf+IRF4', 0.12412084398976982)\n"
       ]
      }
     ],
     "prompt_number": 61
    },
    {
     "cell_type": "code",
     "collapsed": false,
     "input": [],
     "language": "python",
     "metadata": {},
     "outputs": []
    }
   ],
   "metadata": {}
  }
 ]
}