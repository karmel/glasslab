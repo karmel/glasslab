{
 "metadata": {
  "name": ""
 },
 "nbformat": 3,
 "nbformat_minor": 0,
 "worksheets": [
  {
   "cells": [
    {
     "cell_type": "code",
     "collapsed": false,
     "input": [
      "from __future__ import division\n",
      "from glasslab.dataanalysis.graphing.seq_grapher import SeqGrapher\n",
      "import pandas"
     ],
     "language": "python",
     "metadata": {},
     "outputs": [],
     "prompt_number": 3
    },
    {
     "cell_type": "code",
     "collapsed": false,
     "input": [
      "peptide = 'PCC'\n",
      "ab = 'me2'"
     ],
     "language": "python",
     "metadata": {},
     "outputs": [],
     "prompt_number": 4
    },
    {
     "cell_type": "code",
     "collapsed": false,
     "input": [
      "yzer = SeqGrapher()\n",
      "dirpath = 'karmel/Desktop/Projects/GlassLab/Notes_and_Reports/AND_TCR/Analysis/Chips1_2_3/Motifs'\n",
      "dirpath = yzer.get_path(dirpath)"
     ],
     "language": "python",
     "metadata": {},
     "outputs": [],
     "prompt_number": 5
    },
    {
     "cell_type": "code",
     "collapsed": false,
     "input": [
      "pep_dirpath = yzer.get_filename(dirpath, '{}_{}'.format(peptide, ab))\n",
      "filename = yzer.get_filename(pep_dirpath, '{}_{}_enhancers_with_ac.txt'.format(peptide, ab))"
     ],
     "language": "python",
     "metadata": {},
     "outputs": [],
     "prompt_number": 10
    },
    {
     "cell_type": "code",
     "collapsed": false,
     "input": [
      "data = yzer.import_file(filename)\n",
      "data = data.fillna(0)"
     ],
     "language": "python",
     "metadata": {},
     "outputs": [],
     "prompt_number": 11
    },
    {
     "cell_type": "code",
     "collapsed": false,
     "input": [
      "with_batf = data[data['batf_tag_count'] > 0]\n",
      "with_irf4 = data[data['irf4_tag_count'] > 0]\n",
      "with_batf_irf4 = with_batf[with_batf['irf4_tag_count'] > 0]\n",
      "denovo = data[data['no_pep_tag_count'] == 0]\n",
      "denovo_with_batf = with_batf[with_batf['no_pep_tag_count'] == 0]\n",
      "\n",
      "print('Total {} {} peaks'.format(peptide, ab), len(data))\n",
      "print('With Batf', len(with_batf))\n",
      "print('De novo', len(denovo))\n",
      "print('De novo with Batf', len(denovo_with_batf))\n",
      "print('With IRF4', len(with_irf4))\n",
      "print('With Batf+IRF4', len(with_batf_irf4))"
     ],
     "language": "python",
     "metadata": {},
     "outputs": [
      {
       "output_type": "stream",
       "stream": "stdout",
       "text": [
        "('Total PCC me2 peaks', 25110)\n",
        "('With Batf', 7878)\n",
        "('De novo', 4512)\n",
        "('De novo with Batf', 1305)\n",
        "('With IRF4', 4843)\n",
        "('With Batf+IRF4', 4513)\n"
       ]
      }
     ],
     "prompt_number": 14
    },
    {
     "cell_type": "code",
     "collapsed": false,
     "input": [
      "print('Total {} {} peaks'.format(peptide, ab), len(data)/len(data))\n",
      "print('With Batf', len(with_batf)/len(data))\n",
      "print('De novo', len(denovo)/len(data))\n",
      "print('With IRF4', len(with_irf4)/len(data))\n",
      "print('With Batf+IRF4', len(with_batf_irf4)/len(data))\n",
      "\n",
      "print('De novo with Batf out of Batf', len(denovo_with_batf)/len(with_batf))\n",
      "print('De novo with Batf out of de novo', len(denovo_with_batf)/len(denovo))\n",
      "print('De novo with Batf out of total', len(denovo_with_batf)/len(data))"
     ],
     "language": "python",
     "metadata": {},
     "outputs": [
      {
       "output_type": "stream",
       "stream": "stdout",
       "text": [
        "('Total PCC me2 peaks', 1.0)\n",
        "('With Batf', 0.3137395459976105)\n",
        "('De novo', 0.17968936678614097)\n",
        "('With IRF4', 0.19287136598964555)\n",
        "('With Batf+IRF4', 0.17972919155714856)\n",
        "('De novo with Batf out of Batf', 0.16565118050266564)\n",
        "('De novo with Batf out of de novo', 0.2892287234042553)\n",
        "('De novo with Batf out of total', 0.05197132616487455)\n"
       ]
      }
     ],
     "prompt_number": 16
    },
    {
     "cell_type": "code",
     "collapsed": false,
     "input": [
      "# Diameter calculations- total circle has radius 500, Illustrator wants diameter\n",
      "from math import sqrt\n",
      "print(sqrt(.314)*500*2)\n",
      "print(sqrt(.180)*500*2)"
     ],
     "language": "python",
     "metadata": {},
     "outputs": [
      {
       "output_type": "stream",
       "stream": "stdout",
       "text": [
        "560.357029045\n",
        "424.264068712\n"
       ]
      }
     ],
     "prompt_number": 22
    },
    {
     "cell_type": "code",
     "collapsed": false,
     "input": [],
     "language": "python",
     "metadata": {},
     "outputs": []
    }
   ],
   "metadata": {}
  }
 ]
}